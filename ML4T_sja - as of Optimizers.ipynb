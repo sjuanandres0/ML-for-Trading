{
 "cells": [
  {
   "cell_type": "markdown",
   "metadata": {},
   "source": [
    "https://github.com/sokunmin/machine-learning-for-trading\n",
    "\n"
   ]
  },
  {
   "cell_type": "code",
   "execution_count": 4,
   "metadata": {},
   "outputs": [],
   "source": [
    "# Starting with the notes in Lesson 9: 01-08 OPTIMIZERS: Building a para...."
   ]
  },
  {
   "cell_type": "code",
   "execution_count": 1,
   "metadata": {},
   "outputs": [],
   "source": [
    "import pandas as pd\n",
    "import matplotlib.pyplot as plt\n",
    "import numpy as np\n",
    "import scipy.optimize as spo"
   ]
  },
  {
   "cell_type": "markdown",
   "metadata": {},
   "source": [
    "## Lesson 9\n",
    "## 01-08 Optimizers: Building a parametrized model"
   ]
  },
  {
   "cell_type": "code",
   "execution_count": 8,
   "metadata": {},
   "outputs": [],
   "source": [
    "def f(X):\n",
    "    '''Given a scalar X, return some value (a real number).'''\n",
    "    Y = (X-1.5)**2 + 0.5\n",
    "    print('X={}, Y={}'.format(X,Y))\n",
    "    return Y"
   ]
  },
  {
   "cell_type": "code",
   "execution_count": 15,
   "metadata": {},
   "outputs": [],
   "source": [
    "def test_run():\n",
    "    Xguess = 2.0\n",
    "    min_result = spo.minimize(f, Xguess, method='SLSQP', options={'disp':True})\n",
    "    print('Minima found at:')\n",
    "    print('X={}, Y={}'.format(min_result.x, min_result.fun))\n",
    "    \n",
    "    # Plot function values, mark minima\n",
    "    Xplot = np.linspace(0.5, 2.5, 21)\n",
    "    Yplot = f(Xplot)\n",
    "    plt.plot(Xplot, Yplot)\n",
    "    plt.plot(min_result.x, min_result.fun, 'ro')\n",
    "    plt.title('Minima of an objective function')\n",
    "    plt.show()"
   ]
  },
  {
   "cell_type": "code",
   "execution_count": 16,
   "metadata": {},
   "outputs": [
    {
     "name": "stdout",
     "output_type": "stream",
     "text": [
      "X=[2.], Y=[0.75]\n",
      "X=[2.00000001], Y=[0.75000001]\n",
      "X=[0.99999999], Y=[0.75000001]\n",
      "X=[1.5], Y=[0.5]\n",
      "X=[1.50000001], Y=[0.5]\n",
      "Optimization terminated successfully    (Exit mode 0)\n",
      "            Current function value: [0.5]\n",
      "            Iterations: 2\n",
      "            Function evaluations: 5\n",
      "            Gradient evaluations: 2\n",
      "Minima found at:\n",
      "X=[1.5], Y=[0.5]\n",
      "X=[0.5 0.6 0.7 0.8 0.9 1.  1.1 1.2 1.3 1.4 1.5 1.6 1.7 1.8 1.9 2.  2.1 2.2\n",
      " 2.3 2.4 2.5], Y=[1.5  1.31 1.14 0.99 0.86 0.75 0.66 0.59 0.54 0.51 0.5  0.51 0.54 0.59\n",
      " 0.66 0.75 0.86 0.99 1.14 1.31 1.5 ]\n"
     ]
    },
    {
     "data": {
      "image/png": "[encoded data removed]",
      "text/plain": [
       "<Figure size 432x288 with 1 Axes>"
      ]
     },
     "metadata": {
      "needs_background": "light"
     },
     "output_type": "display_data"
    }
   ],
   "source": [
    "if __name__ == '__main__':\n",
    "    test_run()"
   ]
  },
  {
   "cell_type": "markdown",
   "metadata": {},
   "source": [
    "This algorithms need a convex function. This would mean that it would have one global minium."
   ]
  },
  {
   "cell_type": "code",
   "execution_count": 23,
   "metadata": {},
   "outputs": [],
   "source": [
    "def error(line, data):\n",
    "    \"\"\"Compute error between given line model and observed data.\n",
    "    Parameters\n",
    "    ----------\n",
    "    line: tuple/list/array (C0, C1) where C0 is slope and C1 is Y-intercept\n",
    "    data: 2D array where each row is a point (x, y)\n",
    "\n",
    "    Returns error as a single real value.\n",
    "    \"\"\"\n",
    "    # Metric: Sum of squared Y-axis differences\n",
    "    c0 = line[0]\n",
    "    c1 = line[1]\n",
    "    x = data[:, 0]\n",
    "    y = data[:, 1]\n",
    "    err = np.sum((y - (c0 * x + c1)) ** 2)\n",
    "    return err\n",
    "\n",
    "\n",
    "def fit_line(data, error_func):\n",
    "    \"\"\"Fit a line to given data, using a supplied error function.\n",
    "\n",
    "    Parameters\n",
    "    ----------\n",
    "    data: 2D array where each row is a point (X0, Y)\n",
    "    error_func: funciton that computes the error between a line and observed data\n",
    "\n",
    "    Returns line that minimizes the error function.\n",
    "    \"\"\"\n",
    "    # Generate initial guess for line model\n",
    "    line = np.float32([0, np.mean(data[:, 1])]) # slope = 0, intercept = mean(y values)\n",
    "\n",
    "    # Plot initial guess (optional)\n",
    "    x_ends = np.float32([-5, 5])\n",
    "    plt.plot(x_ends, line[0] * x_ends + line[1], 'm--', linewidth=2.0, label='Initial guess')\n",
    "\n",
    "    # Call optimizer to minimize error function\n",
    "    # args: pass the data as argument to error_func\n",
    "    result = spo.minimize(error_func, line, args=(data,), method='SLSQP', options={'disp':True})\n",
    "    return result.x\n",
    "\n",
    "def error_poly(C, data):\n",
    "    \"\"\"Compute error between given polynomial and observed data.\n",
    "\n",
    "    Parameters\n",
    "    ----------\n",
    "    C(Coefficients for the polynomial): numpy.poly1d object or equivalent array representing polynomial coefficients\n",
    "    data: 2D array where each row is a point (x, y)\n",
    "\n",
    "    Returns error as a single real value.\n",
    "    \"\"\"\n",
    "    # Metric: Sum of squared Y-axis differences\n",
    "    # np.polyval(): Evaluate a polynomial at specific values.\n",
    "    # for example, np.polyval([3,0,1], 5) ==> 3 * 5**2 + 0 * 5**1 + 1 ==> 76\n",
    "    x = data[:, 0]\n",
    "    y = data[:, 1]\n",
    "    err = np.sum((y - np.polyval(C, x)) ** 2)\n",
    "    return err\n",
    "\n",
    "def fit_poly(data, error_func, degree=4):\n",
    "    \"\"\"Fit a polynomial to given data, using supplied error function.\n",
    "    \n",
    "    Parameters\n",
    "    ----------\n",
    "    data: 2D array where each row is a point (x, y)\n",
    "    error_func: function that computes the error between a polynomial and observed difference\n",
    "\n",
    "    Returns polynomial that minimizes the error funciton.\n",
    "    \"\"\"\n",
    "    # Generate initial guess for polynomial model (all coeffs = 1)\n",
    "    # for example, np.poly1d([1, 2, 3]) ==> 1x**2 + 2x + 3\n",
    "    Cguess = np.poly1d(np.ones(degree + 1, dtype=np.float32))\n",
    "\n",
    "    # Plot initial guess (optional)\n",
    "    x = np.linspace(-5, 5, 21)\n",
    "    plt.plot(x, np.polyval(Cguess, x), 'm--', linewidth=2.0, label='Initial guess')\n",
    "\n",
    "    # Call optimizer to minimize error function\n",
    "    # Sequential Least SQuares Programming (SLSQP).\n",
    "    result = spo.minimize(error_func, Cguess, args=(data,), method='SLSQP', options={'disp':True})\n",
    "    # for example, np.poly1d([1, 2, 3]) ==> 1x**2 + 2x + 3\n",
    "    return np.poly1d(result.x) # convert optimal result into a poly1d object and return the result"
   ]
  },
  {
   "cell_type": "code",
   "execution_count": 24,
   "metadata": {},
   "outputs": [
    {
     "name": "stdout",
     "output_type": "stream",
     "text": [
      "Original line: C0 = 4.0, C1 = 2.0\n",
      "Optimization terminated successfully    (Exit mode 0)\n",
      "            Current function value: 165.81418360864035\n",
      "            Iterations: 5\n",
      "            Function evaluations: 19\n",
      "            Gradient evaluations: 5\n",
      "Fitted line: C0 = 4.1253421823638305, C1 = 0.9856543117371951\n"
     ]
    },
    {
     "data": {
      "image/png": "[encoded data removed]",
      "text/plain": [
       "<Figure size 432x288 with 1 Axes>"
      ]
     },
     "metadata": {
      "needs_background": "light"
     },
     "output_type": "display_data"
    }
   ],
   "source": [
    "# Define original line\n",
    "l_orig = np.float32([4, 2])\n",
    "c0, c1 = l_orig[0], l_orig[1]\n",
    "print('Original line: C0 = {}, C1 = {}'.format(c0, c1))\n",
    "# Xorig = [0., 0.5, 1., ..., 10.]\n",
    "Xorig = np.linspace(0, 10, 21)\n",
    "# Yorig = [2., 4., 6., ..., 42.]\n",
    "Yorig = c0 * Xorig + c1\n",
    "plt.plot(Xorig, Yorig, 'b--', linewidth=2.0, label='Original line')\n",
    "\n",
    "# Generate noisy data points\n",
    "noise_sigma = 3.0\n",
    "# Draw random samples from a normal (Gaussian) distribution.\n",
    "noise = np.random.normal(0, noise_sigma, Yorig.shape)\n",
    "data = np.asarray([Xorig, Yorig + noise]).T\n",
    "x, y = data[:, 0], data[:, 1]\n",
    "plt.plot(x, y, 'go', label='Data points')\n",
    "\n",
    "# Try to fit a line to this data\n",
    "l_fit = fit_line(data, error)\n",
    "fit_c0, fit_c1 = l_fit[0], l_fit[1]\n",
    "print('Fitted line: C0 = {}, C1 = {}'.format(fit_c0, fit_c1))\n",
    "plt.plot(x, fit_c0 * x + fit_c1, 'r--', linewidth=2.0, label='Fitted line')\n",
    "\n",
    "# Add a legend and show plot\n",
    "plt.legend(loc='upper left')\n",
    "plt.show()"
   ]
  },
  {
   "cell_type": "code",
   "execution_count": 25,
   "metadata": {},
   "outputs": [
    {
     "name": "stdout",
     "output_type": "stream",
     "text": [
      "     4      3     2\n",
      "1.5 x - 10 x - 5 x + 60 x + 50\n",
      "Optimization terminated successfully    (Exit mode 0)\n",
      "            Current function value: 54.8147699358599\n",
      "            Iterations: 8\n",
      "            Function evaluations: 66\n",
      "            Gradient evaluations: 8\n",
      "       4         3         2\n",
      "1.503 x - 10.01 x - 5.066 x + 60.04 x + 50.21\n"
     ]
    },
    {
     "data": {
      "image/png": "[encoded data removed]",
      "text/plain": [
       "<Figure size 432x288 with 1 Axes>"
      ]
     },
     "metadata": {
      "needs_background": "light"
     },
     "output_type": "display_data"
    }
   ],
   "source": [
    "# Fitting Higher Order Polynomials\n",
    "Cguess = np.poly1d([1.5, -10, -5, 60, 50])\n",
    "print(Cguess)\n",
    "Xorig = np.linspace(-5, 5, 21)\n",
    "Yorig = np.polyval(Cguess, Xorig)\n",
    "plt.plot(Xorig, Yorig, 'b', linewidth=2.0, label='Original line')\n",
    "\n",
    "# Generate noisy data points\n",
    "noise_sigma = 3.0\n",
    "noise = np.random.normal(0, noise_sigma, Yorig.shape)\n",
    "data = np.asarray([Xorig, Yorig + noise]).T\n",
    "x, y = data[:, 0], data[:, 1]\n",
    "plt.plot(x, y, 'go', label='Data points')\n",
    "\n",
    "# Try to fit a line to this data\n",
    "fit_coef = fit_poly(data, error_poly)\n",
    "print(fit_coef)\n",
    "plt.plot(x, np.polyval(fit_coef, x), 'r--', linewidth=2.0, label='Fitted line')\n",
    "\n",
    "# Add a legend and show plot\n",
    "plt.legend(loc='upper right')\n",
    "plt.show()"
   ]
  },
  {
   "cell_type": "markdown",
   "metadata": {},
   "source": [
    "## Lesson 10\n",
    "## 01-09 Optimizers: How to optimize a portfolio"
   ]
  },
  {
   "cell_type": "markdown",
   "metadata": {},
   "source": [
    "### <font color=blue>Optimizers: How to optimize a portfolio?</font>\n",
    "**`What is application portfolio optimization? `**<br/>\n",
    "Given a set of assets and a time period, find an allocation of funds to assets that maximizes performance.\n",
    "\n",
    "**`What is performance?`**<br/>\n",
    "We could choose from a number of metrics, including cumulative return, volatility or risk, and risk adjusted return, which is Sharpe ratio."
   ]
  },
  {
   "cell_type": "markdown",
   "metadata": {},
   "source": [
    "**`Framing the problems`**<br/>\n",
    "* Provide a function to minimize     \n",
    "  * <font color=blue>$f(x)$</font> where <font color=blue>$x$</font> are the allocations that we're looking for. It can be multiple dimensions, each dimension of x here is an allocation to each of the stocks.\n",
    "  * Let the optimizer try different allocations in order to discover the best set of allocations that optimizes this function.\n",
    "  * Try to find the largest Sharpe ratio multiplying by a negative 1 using optimizer.\n",
    "  * Becomes <font color=blue>$f(x) = SharpeRatio * -1$</font>\n",
    "* Provide an initial guess for <font color=blue>$x$</font>\n",
    "* Call the optimizer\n",
    "\n",
    "**`Ranges and constraints`**\n",
    "One of them will help your optimization run faster.\n",
    "\n",
    "1. Tell the optimizer that it should only look at certain ranges for X.\n",
    " * In other words, for this problem, for each of the various allocations, it's only worth looking at values between 0 and 1.\n",
    " * It's only feasible to have 0% to 100% or 0 to 1 in each of these assets. So, tell the optimizer only focus on values between 0 and 1 for each of the dimensions of X.\n",
    "\n",
    "2. The optimizers in numbpie are provide constraints.\n",
    " * Constraints are properties of the values of X that must be true. As an example we want the sum of our allocations to add up to one.\n",
    " * Let's say we have X0, X1, X2, X3 four holdings in a portfolio. We want the sum of the absolute values of those to be equal to 1.0.\n",
    " * In other words, our total allocation should add up to 100%. you end up with a total of 100% allocated to the various assets.\n",
    " * <font color=blue>$\\sum_{i=0}^{3} abs(x_i) = 1.0$</font>"
   ]
  },
  {
   "cell_type": "markdown",
   "metadata": {},
   "source": [
    "## Lesson 11\n",
    "## 02-01: So you want to be a hedge fund manager?"
   ]
  },
  {
   "cell_type": "markdown",
   "metadata": {},
   "source": [
    "--------\n",
    "### <font color=blue>Types of Funds</font>\n",
    "\n",
    "ETF(Exchange-traded funds)| Mutual Fund           | Hedge Fund     \n",
    "--------------------------|-----------------------|--------------- \n",
    "Buy/Sell like stocks      | Buy/Sell at end of day| Buy/Sell by agreement\n",
    "Baskets of stocks         | Quarterly disclosure  | No disclosure\n",
    "Transparent, Liquid       | Less transparent      | Not transparent\n",
    "\n",
    "* Large cap: large capitalization, which means how much a company is worth according to number of shares that are outstanding, times the price of the stock.\n",
    "* <font color=blue>$LargeCap = Share * Prices$</font>: the price of a stock really only relates to what one share is selling at. It doesn't relate to the overall value of the company.\n",
    "* Hedge funds typically have no more than 100 investors, whereas all other types of sumbols have thousands and even millions of investors.\n",
    "* ETFs have 3 or 4 letters, Mutual funds have 5 letters, and Hedge funds"
   ]
  },
  {
   "cell_type": "markdown",
   "metadata": {},
   "source": [
    "### <font color=blue>Incentives For Fund Managers</font>\n",
    "Funds| Incentives\n",
    "----|----\n",
    "ETFs| Expense Ratio 0.01% ~ 1.00%\n",
    "Mutual Funds | Expense Ratio 0.5% ~ 3.00%\n",
    "Hedge Funds | \"Two and Twenty\"\n",
    "\n",
    "* **`Assets Under Management (AUM)`** is the total amount of money being managed by the fund.<br/>\n",
    " * All of these part of the compensation is a percentage of the AUM.<br/>\n",
    " * **`Expense ratio`** is some percentage of AUM.\n",
    "* Expediture issues for **`ETFs`** are usually pretty low.\n",
    "* **`ETFs`** usually are tied to an index. As an example, a popular ETF, SPY is supposed to track the S&P500\n",
    "* **`Mutual funds`** supposedly use more skill and charge a higher expense ratio\n",
    "* **`Hedge funds`** follows a model called \"Two and Twenty\", which means 2% of AUM, plus 20% of the profits"
   ]
  },
  {
   "cell_type": "markdown",
   "metadata": {},
   "source": [
    "This structure **`Two and Twenty`** has been assailed lately.\n",
    "It's very rate now to find a hedge fund that offers rates that high.\n",
    "They're much lower now like **`One and Ten`**.\n",
    "The **`Two and Twenty`** was in the heyday of hedge funds in the '90s and early 2000s"
   ]
  },
  {
   "cell_type": "markdown",
   "metadata": {},
   "source": [
    "## Lesson 12\n",
    "## 02-02: Market Mechanics"
   ]
  },
  {
   "cell_type": "markdown",
   "metadata": {},
   "source": [
    "![Orders Books](images/orders_books.png) "
   ]
  },
  {
   "cell_type": "markdown",
   "metadata": {},
   "source": [
    "![Orders and Exchanges](images/orders_and_exchanges.png) "
   ]
  },
  {
   "cell_type": "markdown",
   "metadata": {},
   "source": [
    "Short selling explained in the video"
   ]
  },
  {
   "cell_type": "markdown",
   "metadata": {},
   "source": [
    "## Lesson 13\n",
    "## 02-03: What is a company worth?"
   ]
  },
  {
   "cell_type": "markdown",
   "metadata": {},
   "source": [
    "* `Intrinsic value:` its the sum of the dividends the company will pay you in the future (based on future dividents). So given the present value as follows PV=FV/(1+IR)^i, then the intrinsec value is the FV/DR, being DR discount rate (risk of stock). \n",
    "* `Book value:` \"Total assets minus intangible assets and liabilities\", value of the company if we split the company into pieces and we sell them individually.\n",
    "* `Market Cap:` #shares x price"
   ]
  },
  {
   "cell_type": "markdown",
   "metadata": {},
   "source": [
    "* If Intrinsic Value < Market Cap: may be worthwile to short this stock.\n",
    "* If Dividends are going up and Market Cap is low: might be an opportunity to buy the stock.\n",
    "* If Stock price is approaching Book Value, you can assume it can not go below the Book Value. If it does, a buyer could buy the whole company and split into pieces."
   ]
  },
  {
   "cell_type": "code",
   "execution_count": null,
   "metadata": {},
   "outputs": [],
   "source": []
  },
  {
   "cell_type": "code",
   "execution_count": null,
   "metadata": {},
   "outputs": [],
   "source": []
  },
  {
   "cell_type": "markdown",
   "metadata": {},
   "source": [
    "----\n",
    "### <font color=blue>The Capital Assets Pricing Model (The CAPM)</font>\n",
    "\n",
    "#### Definition of Portfolio\n",
    "![TheCAPM](images/the_capm_define.png)  \n",
    "<font color=blue>$w_i$</font>: portion of funds in asset <font color=blue>$i$</font><br/>\n",
    "<font color=blue>$r_i$</font>: the return of asset <font color=blue>$i$</font><br/>\n",
    "<font color=blue>$r_p$</font>: the return on the portfolio on that day <font color=blue>$t$</font><br/>\n",
    "<br/>\n",
    "#### Cap weighted\n",
    "![TheCAPM](images/the_capm_weighted.png)  \n",
    "<font color=blue>$\\sum_{j}{MarketCap_j}$</font>: the sum of the market caps of all the stocks.<br/>\n",
    "<br/>\n",
    "#### The CAPM equation\n",
    "![TheCAPM](images/the_capm_equation.png)  \n",
    "<font color=blue>$r_i(t)$</font>: the return for an individual stock on a particular day <font color=blue>$t$</font>\n",
    "where <font color=blue>$i$</font> is one of stocks in the market <font color=blue>$m$</font><br/>\n",
    "<font color=blue>$r_m(t)$</font>: the return on the market <font color=blue>$m$</font> such as **`S&P500`**<br/>\n",
    "<font color=blue>$\\alpha_i(t)$</font>: the particular stock on that day <font color=blue>$t$</font><br/>\n",
    "<font color=red>$\\beta_ir_m(t)$ (market)</font>: what the capital assets pricing model is asserting is that a significant portion of the return for a particular stock is due to the market. In other words, the market moving up or down strongly affects the change in price on every individual stock. Every stock has its individual <font color=red>$\\beta$</font> that specifies how much it's affected. For example, if <font color=red>$\\beta$</font> is 2, that means if the market goes up 1%, the stock goes up 2%.<br/>\n",
    "\n",
    "<font color=red>$\\alpha_i(t)$ (residual)</font>: if we look at all the stocks over one day and look at how much the market goes up or down, and how much the stock should have gone up or down according to <font color=red>$\\beta$</font>, there will be something left over, which won't exactly match what <font color=red>$\\beta$</font> predicted. That's what <font color=red>$\\alpha$</font> or **`residual component`** is.<br/>\n",
    "\n",
    "<font color=red>$E = 0$</font>: an important part of the capital assets pricing model is that the expectation <font color=red>$E$</font> for <font color=red>$\\alpha$</font> is 0, where <font color=red>$E$</font> is a random variable with an expected value of 0.\n",
    "\n",
    "![TheCAPM](images/the_capm.png)  \n",
    "In this plot, each green dot represents one day. \n",
    "When we fit a line to it, <font color=red>$\\beta$</font> represents the slope of the red solid line. <font color=red>$\\alpha$</font> is the y-intercept of the red line.<br/><br/>\n",
    "Historically a particular stock looking back at time gave you a particular <font color=red>$\\alpha$</font>, you shouldn't necessarily expect that in the future.<br/>\n",
    "The CAPM says that you should expect <font color=red>$\\alpha$</font> to be 0, it's random and unpredictable. It can be negative or positive, small or large. On average, it's gonna be 0. <br/>\n",
    "In reality though, it's not always 0. That's the key to the CAPM pricing model and where <font color=red>$\\beta$</font> and <font color=red>$\\alpha$</font> come from.\n",
    "\n",
    "#### CAPM for portfolio\n",
    "![TheCAPMPortfolio](images/the_capm_portfolio.png) "
   ]
  },
  {
   "cell_type": "markdown",
   "metadata": {},
   "source": [
    "-----\n",
    "### <font color=blue>Arbitrage Pricing Theory (APT)</font>\n",
    "![APT](images/the_apt.png) \n",
    "In CAPM, we have single <font color=red>$\\beta$</font> that represents a particular stock's relationship to the market. <br/>\n",
    "The CAPM allows us to consider a stock in the entire market. <br/>\n",
    "\n",
    "But in APT, it might have multiple <font color=red>$\\beta$</font>. <br/>\n",
    "We have to consider the different industries. In other words a particular stock might have exposure to different aspects of the market. <br/>\n",
    "For example, the stock might have some exposure to finance, so we could compute the component of return <font color=red>$r_i$</font> due to finance via the <font color=red>$\\beta_{iF}$</font> with regard to finance and the return <font color=red>$r_{iF}$</font> for finance of that day."
   ]
  },
  {
   "cell_type": "markdown",
   "metadata": {
    "collapsed": true
   },
   "source": [
    "### <font color=blue>Two stock scenario</font>\n",
    "#### <center><font color=red>< Scenario 1 ></font></center>\n",
    "![TwoStock](images/two_stock_1.png)<br/>\n",
    "\n",
    "#### <center><font color=red>< Scenario 2 ></font></center>\n",
    "![TwoStock](images/two_stock_2.png) \n",
    "We only had <font color=blue>50%</font> over allocation in each one of stocks.\n",
    "\n",
    "#### <center><font color=red>< Scenario 3 ></font></center>\n",
    "![TwoStock](images/two_stock_3.png) \n",
    "\n",
    "#### <center><font color=red>< Scenario 4 ></font></center>\n",
    "![TwoStock](images/two_stock_4.png) \n",
    "We eliminate the return on the market. So whichever way the market goes, we can expect to get 1% return.  <br/>\n",
    "These <font color=red>betas</font> and <font color=red>alphas</font> aren't necessarily fully guaranteed to continue into the future.  <br/>\n",
    "They are just estimated that we computed based on information we though we had. <br/>\n",
    "This is not a guaranteed thing by any means, but it is a way to use long/short investing to reduce exposure to the market overall and to focus on those <font color=red>alpha</font> components where we do have information."
   ]
  },
  {
   "cell_type": "markdown",
   "metadata": {
    "collapsed": true
   },
   "source": [
    "### <font color=blue>CAPM summary</font>\n",
    "![TheCAPM](images/the_capm_summary.png) \n",
    "* For assuming, convert actionable information into a forecast <font color=blue>$\\alpha_i$</font> (a prediction) for particular stock <font color=blue>$i$</font>, about which way it's going to go. \n",
    "* And also the <font color=blue>$\\beta_i$</font> of that stock with regard to the market.\n",
    "* We can minimize market risk by finding a <font color=blue>$\\beta_p$</font> for our portfolio <font color=blue>$p$</font> that's equal to zero. \n",
    "* We can do that by finding the appropriate weights $w_i$ on each individual stock. So CAPM can be a really valuable tool in terms of portfolio construction because it can enable you to build these portfolios that are less exposed to market risk."
   ]
  },
  {
   "cell_type": "code",
   "execution_count": null,
   "metadata": {},
   "outputs": [],
   "source": []
  },
  {
   "cell_type": "code",
   "execution_count": null,
   "metadata": {},
   "outputs": [],
   "source": []
  },
  {
   "cell_type": "code",
   "execution_count": null,
   "metadata": {},
   "outputs": [],
   "source": []
  },
  {
   "cell_type": "markdown",
   "metadata": {},
   "source": [
    "From here I started back in Nov // Juan"
   ]
  },
  {
   "cell_type": "markdown",
   "metadata": {},
   "source": [
    "# Technical Analysis"
   ]
  },
  {
   "cell_type": "markdown",
   "metadata": {},
   "source": [
    "## Lesson 16:\n",
    "## 01-06 Technical Analysis"
   ]
  },
  {
   "cell_type": "markdown",
   "metadata": {},
   "source": [
    "What it is:\n",
    "* Historical price and volume only\n",
    "* Compute statistics called indicators\n",
    "* Indicators are heuristics\n",
    "\n",
    "Why it might work:\n",
    "* There is information in price\n",
    "* Heuristics work"
   ]
  },
  {
   "cell_type": "markdown",
   "metadata": {
    "collapsed": true
   },
   "source": [
    "### <font color=blue>When is Technical Analysis effective?</font>\n",
    "* Individual indicators weak  \n",
    "* Combinations stronger \n",
    "* Look for contrasts (stock vs. market) - No point on analyzing stocks that move the same\n",
    "* Shorter time periods"
   ]
  },
  {
   "cell_type": "markdown",
   "metadata": {},
   "source": [
    "### <font color=blue>When does Technial Analysis have value?</font>\n",
    "![TechAnalysis](images/tech_analysis_1.png) \n",
    "\n",
    "#### <font color=red>Indicator: Momentum</font>\n",
    "![Momentum](images/indicator_momentum.png) \n",
    "Range: [-0.5 ~ 0.5]  \n",
    " * -0.5 = -50% drop\n",
    " * 0.5 = 50% up\n",
    " \n",
    "#### <font color=red>Indicator: Simple Moving Average (SMA)</font>\n",
    "![SMA](images/indicator_sma.png) \n",
    "* <font color=blue><b>Proxy for underlying value</b></font>: if you look back over a certain period of time and take the average price, that might represent the true value of the company\n",
    "* <font color=blue><b>Arbitrage opportunity</b></font>: if we see a large excursion from that price, for instance, we should expect that the price is eventually going to come back down to that average. So it's an arbitrage opportunity.<br/>\n",
    "* <font color=blue><b>Quantify the diversion</b></font>: compare the current price with the current moving average, and construct a ratio. For example, we've gotten negative values and positive values, we take particular positive/negative price for day $t$ and divided by the mean for the last n-days. The values are ranging from -50% to 50%.\n",
    " \n",
    "#### <font color=red>Indicator: Bollinger Bands</font>\n",
    "![SMA](images/indicator_bollinger_bands.png) \n",
    "* If low volatility stocks are currently experiencing low volatility, we can use a smaller number for that trigger. \n",
    "* When we see high volatility, we can use a larger number.\n",
    "* We can use standard deviation to accomplish it.\n",
    "* <font color=blue><b>How to use</b></font>: <font color=red>look for cross from outside band to inside band.</font>\n",
    "\n",
    "**Q: Buy or Sell**\n",
    "![QBB](images/bb_buy_or_sell.png)\n",
    "\n",
    "#### <font color=red>Normalization</font>\n",
    "![Norm](images/tech_analysis_norm.png) \n",
    "* The normalization takes each of these factors and essentially compressses them or stretches them, they vary on average <font color=blue><b>from -1 to +1 with the mean of 0</font>."
   ]
  },
  {
   "cell_type": "code",
   "execution_count": null,
   "metadata": {},
   "outputs": [],
   "source": []
  },
  {
   "cell_type": "markdown",
   "metadata": {
    "collapsed": true
   },
   "source": [
    "----\n",
    "#### <font color=blue>How data is aggregated?</font>\n",
    "![Data](images/data_tick.png) \n",
    "* <font color=blue>Tick</font>: a tick represents a successful by cell match or a successful transaction."
   ]
  },
  {
   "cell_type": "code",
   "execution_count": null,
   "metadata": {},
   "outputs": [],
   "source": []
  },
  {
   "cell_type": "code",
   "execution_count": null,
   "metadata": {},
   "outputs": [],
   "source": []
  },
  {
   "cell_type": "code",
   "execution_count": null,
   "metadata": {},
   "outputs": [],
   "source": []
  },
  {
   "cell_type": "code",
   "execution_count": null,
   "metadata": {},
   "outputs": [],
   "source": []
  },
  {
   "cell_type": "code",
   "execution_count": null,
   "metadata": {},
   "outputs": [],
   "source": []
  },
  {
   "cell_type": "code",
   "execution_count": null,
   "metadata": {},
   "outputs": [],
   "source": []
  },
  {
   "cell_type": "code",
   "execution_count": null,
   "metadata": {},
   "outputs": [],
   "source": []
  },
  {
   "cell_type": "code",
   "execution_count": null,
   "metadata": {},
   "outputs": [],
   "source": []
  },
  {
   "cell_type": "code",
   "execution_count": null,
   "metadata": {},
   "outputs": [],
   "source": []
  },
  {
   "cell_type": "code",
   "execution_count": null,
   "metadata": {},
   "outputs": [],
   "source": []
  },
  {
   "cell_type": "code",
   "execution_count": null,
   "metadata": {},
   "outputs": [],
   "source": []
  },
  {
   "cell_type": "code",
   "execution_count": null,
   "metadata": {},
   "outputs": [],
   "source": []
  },
  {
   "cell_type": "code",
   "execution_count": null,
   "metadata": {},
   "outputs": [],
   "source": []
  },
  {
   "cell_type": "code",
   "execution_count": null,
   "metadata": {},
   "outputs": [],
   "source": []
  },
  {
   "cell_type": "code",
   "execution_count": null,
   "metadata": {},
   "outputs": [],
   "source": []
  },
  {
   "cell_type": "code",
   "execution_count": null,
   "metadata": {},
   "outputs": [],
   "source": []
  },
  {
   "cell_type": "code",
   "execution_count": null,
   "metadata": {},
   "outputs": [],
   "source": []
  },
  {
   "cell_type": "code",
   "execution_count": null,
   "metadata": {},
   "outputs": [],
   "source": []
  },
  {
   "cell_type": "code",
   "execution_count": null,
   "metadata": {},
   "outputs": [],
   "source": []
  },
  {
   "cell_type": "code",
   "execution_count": null,
   "metadata": {},
   "outputs": [],
   "source": []
  }
 ],
 "metadata": {
  "kernelspec": {
   "display_name": "Python 3",
   "language": "python",
   "name": "python3"
  },
  "language_info": {
   "codemirror_mode": {
    "name": "ipython",
    "version": 3
   },
   "file_extension": ".py",
   "mimetype": "text/x-python",
   "name": "python",
   "nbconvert_exporter": "python",
   "pygments_lexer": "ipython3",
   "version": "3.8.5"
  }
 },
 "nbformat": 4,
 "nbformat_minor": 4
}
